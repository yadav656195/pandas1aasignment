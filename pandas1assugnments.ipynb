{
 "cells": [
  {
   "cell_type": "code",
   "execution_count": null,
   "id": "697fc85d-2f8d-4720-b64a-17ff113577d0",
   "metadata": {},
   "outputs": [],
   "source": [
    "import pandas as pd"
   ]
  },
  {
   "cell_type": "code",
   "execution_count": 1,
   "id": "d4be4a98-2918-4067-80e5-9e5e4906c483",
   "metadata": {},
   "outputs": [
    {
     "name": "stdout",
     "output_type": "stream",
     "text": [
      "Requirement already satisfied: pandas in /opt/conda/lib/python3.10/site-packages (1.5.2)\n",
      "Requirement already satisfied: python-dateutil>=2.8.1 in /opt/conda/lib/python3.10/site-packages (from pandas) (2.8.2)\n",
      "Requirement already satisfied: pytz>=2020.1 in /opt/conda/lib/python3.10/site-packages (from pandas) (2022.6)\n",
      "Requirement already satisfied: numpy>=1.21.0 in /opt/conda/lib/python3.10/site-packages (from pandas) (1.23.5)\n",
      "Requirement already satisfied: six>=1.5 in /opt/conda/lib/python3.10/site-packages (from python-dateutil>=2.8.1->pandas) (1.16.0)\n",
      "Note: you may need to restart the kernel to use updated packages.\n"
     ]
    }
   ],
   "source": [
    "pip install pandas"
   ]
  },
  {
   "cell_type": "code",
   "execution_count": null,
   "id": "4cb4f69e-98d6-451c-9158-32e4c11a54a3",
   "metadata": {},
   "outputs": [],
   "source": [
    "Q3. Create a Pandas DataFrame that contains the following data:\n",
    "     Name  Age  Gender\n",
    "0   Alice   25  Female\n",
    "1     Bob   30    Male\n",
    "2  Claire   27  Female\n",
    "Then, print the DataFrame.\n",
    "\n",
    "import pandas as pd\n",
    "\n",
    "\n",
    "data = {\n",
    "    'Name': ['Alice', 'Bob', 'Claire'],\n",
    "    'Age': [25, 30, 27],\n",
    "    'Gender': ['Female', 'Male', 'Female']\n",
    "}\n",
    "\n",
    "\n",
    "df = pd.DataFrame(data)\n",
    "\n",
    "print(df)\n"
   ]
  },
  {
   "cell_type": "code",
   "execution_count": null,
   "id": "75145c38-7454-4620-92cc-e544828e5946",
   "metadata": {},
   "outputs": [],
   "source": [
    "Q4. What is ‘DataFrame’ in pandas and how is it different from pandas.series? Explain with an example.\n",
    "A DataFrame is a two-dimensional, tabular data structure that consists of rows and columns. It is similar \n",
    "to a spreadsheet or SQL table and provides a way to store and manipulate structured data. Each column in \n",
    "a DataFrame can be of a different data type, and it can be thought of as a collection of Pandas Series.\n",
    "The DataFrame is a more complex and versatile data structure compared to a Series.\n",
    "\n",
    "A Series, on the other hand, is a one-dimensional labeled array. It can be seen as a single column of a DataFrame.\n",
    "A DataFrame is essentially a collection of Series, where each column is a Series, and these columns share a common index."
   ]
  },
  {
   "cell_type": "code",
   "execution_count": null,
   "id": "36b46d0d-d918-4f4b-8c8b-575e3e9e7d45",
   "metadata": {},
   "outputs": [],
   "source": [
    "Q5. What are some common functions you can use to manipulate data in a Pandas DataFrame? Can\n",
    "you give an example of when you might use one of these functions?\n",
    "# Display the first 5 rows of the DataFrame\n",
    "df.head()\n",
    "# Display information about the DataFrame\n",
    "df.info()\n",
    "# Display summary statistics of the DataFrame\n",
    "df.describe()\n",
    "# Get the shape of the DataFrame\n",
    "df.shape\n",
    "# Select rows and columns using labels\n",
    "df.loc[0:2, ['Name', 'Age']]\n"
   ]
  },
  {
   "cell_type": "code",
   "execution_count": null,
   "id": "0028afed-88c0-4c92-a72e-e3e06620433f",
   "metadata": {},
   "outputs": [],
   "source": [
    "Q6. Which of the following is mutable in nature Series, DataFrame, Panel?\n",
    "Series and DataFrame are mutable"
   ]
  },
  {
   "cell_type": "code",
   "execution_count": null,
   "id": "9e859ea4-5f18-42ba-a41f-9e199faa66a9",
   "metadata": {},
   "outputs": [],
   "source": [
    "Q7. Create a DataFrame using multiple Series. Explain with an example.\n"
   ]
  },
  {
   "cell_type": "code",
   "execution_count": null,
   "id": "23400b5b-ca5e-4f81-8cd9-485db71cdb5d",
   "metadata": {},
   "outputs": [],
   "source": []
  },
  {
   "cell_type": "code",
   "execution_count": null,
   "id": "8339de43-e631-43fe-bf81-b4ba0242e583",
   "metadata": {},
   "outputs": [],
   "source": []
  },
  {
   "cell_type": "code",
   "execution_count": null,
   "id": "831a227d-7b5e-4779-b411-44dd5f53c896",
   "metadata": {},
   "outputs": [],
   "source": []
  },
  {
   "cell_type": "code",
   "execution_count": null,
   "id": "8b987980-c204-4203-ae97-9f0f38b6904a",
   "metadata": {},
   "outputs": [],
   "source": []
  },
  {
   "cell_type": "code",
   "execution_count": null,
   "id": "70075e5d-fb80-410a-ae61-28816e79fa72",
   "metadata": {},
   "outputs": [],
   "source": []
  },
  {
   "cell_type": "code",
   "execution_count": null,
   "id": "10b92dd8-f155-4951-88be-aee17ce608f3",
   "metadata": {},
   "outputs": [],
   "source": []
  },
  {
   "cell_type": "code",
   "execution_count": null,
   "id": "5cd00ca0-5126-4aee-b5c2-463e49745062",
   "metadata": {},
   "outputs": [],
   "source": []
  },
  {
   "cell_type": "code",
   "execution_count": null,
   "id": "495dc815-4d3c-4ed3-90f7-b23f15b5f5ef",
   "metadata": {},
   "outputs": [],
   "source": []
  },
  {
   "cell_type": "code",
   "execution_count": null,
   "id": "f74346c0-27f6-4ac9-ac05-0ffb2f0ee7f5",
   "metadata": {},
   "outputs": [],
   "source": []
  },
  {
   "cell_type": "code",
   "execution_count": null,
   "id": "050e3610-4756-4066-9600-5d14b7bffb92",
   "metadata": {},
   "outputs": [],
   "source": []
  }
 ],
 "metadata": {
  "kernelspec": {
   "display_name": "Python 3 (ipykernel)",
   "language": "python",
   "name": "python3"
  },
  "language_info": {
   "codemirror_mode": {
    "name": "ipython",
    "version": 3
   },
   "file_extension": ".py",
   "mimetype": "text/x-python",
   "name": "python",
   "nbconvert_exporter": "python",
   "pygments_lexer": "ipython3",
   "version": "3.10.8"
  }
 },
 "nbformat": 4,
 "nbformat_minor": 5
}
